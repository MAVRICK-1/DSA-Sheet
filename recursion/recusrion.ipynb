{
 "cells": [
  {
   "cell_type": "markdown",
   "id": "da7f5466",
   "metadata": {},
   "source": [
    "# Print name n times"
   ]
  },
  {
   "cell_type": "code",
   "execution_count": 1,
   "id": "ae4e241e",
   "metadata": {},
   "outputs": [
    {
     "name": "stdout",
     "output_type": "stream",
     "text": [
      "Rishi\n",
      "Rishi\n",
      "Rishi\n",
      "Rishi\n",
      "Rishi\n"
     ]
    }
   ],
   "source": [
    "def name(n:int, i:int):\n",
    "    if i > n:\n",
    "        return\n",
    "    print(\"Rishi\")\n",
    "    name(n,i+1)\n",
    "\n",
    "name(5,1)\n",
    "    "
   ]
  },
  {
   "cell_type": "markdown",
   "id": "2819d066",
   "metadata": {},
   "source": [
    "#  Print 1 to N"
   ]
  },
  {
   "cell_type": "code",
   "execution_count": 2,
   "id": "c411059c",
   "metadata": {},
   "outputs": [
    {
     "name": "stdout",
     "output_type": "stream",
     "text": [
      "1\n",
      "2\n",
      "3\n",
      "4\n",
      "5\n"
     ]
    }
   ],
   "source": [
    "def print_num(n:int, i:int):\n",
    "    if i > n:\n",
    "        return\n",
    "    print(i)\n",
    "    print_num(n,i+1)\n",
    "\n",
    "print_num(5,1)\n",
    "    "
   ]
  },
  {
   "cell_type": "markdown",
   "id": "36c0d17e",
   "metadata": {},
   "source": [
    "# Print N to 1 using recursion"
   ]
  },
  {
   "cell_type": "code",
   "execution_count": null,
   "id": "3bb313a2",
   "metadata": {},
   "outputs": [
    {
     "name": "stdout",
     "output_type": "stream",
     "text": [
      "5\n",
      "4\n",
      "3\n",
      "2\n",
      "1\n"
     ]
    }
   ],
   "source": [
    "def dec(n:int,i:int):\n",
    "    if i < 1 :\n",
    "        return\n",
    "    print(i)\n",
    "    dec(n,i-1)\n",
    "\n",
    "dec(5,5)"
   ]
  },
  {
   "cell_type": "code",
   "execution_count": 17,
   "id": "b154ad5a",
   "metadata": {},
   "outputs": [
    {
     "name": "stdout",
     "output_type": "stream",
     "text": [
      "4\n"
     ]
    }
   ],
   "source": [
    "def recursive_sum(length: int, total: int):\n",
    "    if length < 1:\n",
    "        return total\n",
    "    return recursive_sum(length - 1, total+1)\n",
    "\n",
    "print(recursive_sum(4, 0))\n"
   ]
  },
  {
   "cell_type": "code",
   "execution_count": null,
   "id": "ec3e2485",
   "metadata": {},
   "outputs": [
    {
     "data": {
      "text/plain": [
       "10"
      ]
     },
     "execution_count": 20,
     "metadata": {},
     "output_type": "execute_result"
    }
   ],
   "source": [
    "def summ(num:int, sum:int)->int:\n",
    "    if num < 0:\n",
    "        return sum\n",
    "    return summ(num-1,sum+num)\n",
    "\n",
    "summ(4,0)"
   ]
  },
  {
   "cell_type": "code",
   "execution_count": 22,
   "id": "1fc00015",
   "metadata": {},
   "outputs": [
    {
     "name": "stdout",
     "output_type": "stream",
     "text": [
      "10\n"
     ]
    }
   ],
   "source": [
    "def summ(num:int, sum:int)->int:\n",
    "    if num < 0:\n",
    "        print(sum)\n",
    "        return\n",
    "    summ(num-1,sum+num)\n",
    "\n",
    "summ(4,0)"
   ]
  },
  {
   "cell_type": "code",
   "execution_count": null,
   "id": "72381a5c",
   "metadata": {},
   "outputs": [],
   "source": []
  }
 ],
 "metadata": {
  "kernelspec": {
   "display_name": "base",
   "language": "python",
   "name": "python3"
  },
  "language_info": {
   "codemirror_mode": {
    "name": "ipython",
    "version": 3
   },
   "file_extension": ".py",
   "mimetype": "text/x-python",
   "name": "python",
   "nbconvert_exporter": "python",
   "pygments_lexer": "ipython3",
   "version": "3.12.7"
  }
 },
 "nbformat": 4,
 "nbformat_minor": 5
}
