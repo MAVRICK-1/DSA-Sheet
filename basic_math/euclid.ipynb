{
 "cells": [
  {
   "cell_type": "markdown",
   "metadata": {},
   "source": [
    "# Counting numbers"
   ]
  },
  {
   "cell_type": "code",
   "execution_count": 4,
   "metadata": {},
   "outputs": [
    {
     "data": {
      "text/plain": [
       "4"
      ]
     },
     "execution_count": 4,
     "metadata": {},
     "output_type": "execute_result"
    }
   ],
   "source": [
    "# First way\n",
    "\n",
    "def count1(N:int)->int:\n",
    "    count = 0\n",
    "    while (N>0):\n",
    "        N = N//10\n",
    "        count+=1\n",
    "\n",
    "    return count\n",
    "\n",
    "count1(6789)"
   ]
  },
  {
   "cell_type": "code",
   "execution_count": null,
   "metadata": {},
   "outputs": [
    {
     "data": {
      "text/plain": [
       "4"
      ]
     },
     "execution_count": 7,
     "metadata": {},
     "output_type": "execute_result"
    }
   ],
   "source": [
    "# Second way\n",
    "import math \n",
    "def count2(N:int)-> int:\n",
    "    count = int(math.log10(N)+1)\n",
    "\n",
    "    return count\n",
    "count2(6888)"
   ]
  },
  {
   "cell_type": "markdown",
   "metadata": {},
   "source": [
    "# Reverse Number"
   ]
  },
  {
   "cell_type": "code",
   "execution_count": null,
   "metadata": {},
   "outputs": [
    {
     "name": "stdout",
     "output_type": "stream",
     "text": [
      "787\n"
     ]
    },
    {
     "data": {
      "text/plain": [
       "True"
      ]
     },
     "execution_count": 21,
     "metadata": {},
     "output_type": "execute_result"
    }
   ],
   "source": [
    "def reverse_number(N:int)->bool:\n",
    "    Dup = N\n",
    "    rev = 0 \n",
    "    while(Dup > 0):\n",
    "        num = Dup%10\n",
    "        Dup = Dup//10\n",
    "        rev = rev*10 + num\n",
    "\n",
    "    return True if N == rev else False\n",
    "\n",
    "reverse_number(787)"
   ]
  },
  {
   "cell_type": "markdown",
   "metadata": {},
   "source": [
    "# Divison number"
   ]
  },
  {
   "cell_type": "code",
   "execution_count": 22,
   "metadata": {},
   "outputs": [
    {
     "name": "stdout",
     "output_type": "stream",
     "text": [
      "1\n",
      "2\n",
      "3\n",
      "4\n",
      "6\n",
      "9\n",
      "12\n",
      "18\n",
      "36\n"
     ]
    }
   ],
   "source": [
    "def Divison_number(N:int):\n",
    "    for i in range(1,N+1):\n",
    "        if N%i==0:\n",
    "            print(i)\n",
    "\n",
    "Divison_number(36)"
   ]
  },
  {
   "cell_type": "markdown",
   "metadata": {},
   "source": [
    "# ArmStrong Number"
   ]
  },
  {
   "cell_type": "code",
   "execution_count": 28,
   "metadata": {},
   "outputs": [
    {
     "name": "stdout",
     "output_type": "stream",
     "text": [
      "153\n"
     ]
    },
    {
     "data": {
      "text/plain": [
       "'Armstrong'"
      ]
     },
     "execution_count": 28,
     "metadata": {},
     "output_type": "execute_result"
    }
   ],
   "source": [
    "import math\n",
    "def ArmStrong_number(n:int):\n",
    "    rev = 0\n",
    "    dup = n\n",
    "    while dup > 0:\n",
    "        num = dup%10\n",
    "        dup = dup//10\n",
    "        rev+= num **3\n",
    "    print(rev)\n",
    "\n",
    "    return \"Armstrong\" if n == rev else \"No Armstrong\"\n",
    "\n",
    "ArmStrong_number(153)\n",
    "         "
   ]
  },
  {
   "cell_type": "code",
   "execution_count": 20,
   "metadata": {},
   "outputs": [
    {
     "data": {
      "text/plain": [
       "[1, 2, 3, 4, 6, 9, 12, 18, 36]"
      ]
     },
     "execution_count": 20,
     "metadata": {},
     "output_type": "execute_result"
    }
   ],
   "source": [
    "import math\n",
    "\n",
    "def divison_optimise(n:int)->list[int]:\n",
    "    divisor =[]\n",
    "    for i in range (1,int(math.sqrt(n)+1)):\n",
    "        if n%i==0:\n",
    "            divisor.append(i)\n",
    "            if n//i !=i:\n",
    "                divisor.append(int(n/i))\n",
    "\n",
    "\n",
    "    \n",
    "    return sorted(divisor)\n",
    "\n",
    "divison_optimise(36)\n"
   ]
  },
  {
   "cell_type": "code",
   "execution_count": null,
   "metadata": {},
   "outputs": [
    {
     "name": "stdout",
     "output_type": "stream",
     "text": [
      "2\n"
     ]
    },
    {
     "data": {
      "text/plain": [
       "'prime'"
      ]
     },
     "execution_count": 9,
     "metadata": {},
     "output_type": "execute_result"
    }
   ],
   "source": [
    "import math\n",
    "\n",
    "def prime(n:int):\n",
    "    count = 0\n",
    "\n",
    "    for i in range (1,int(math.sqrt(n)+1)):\n",
    "        if n%i==0:\n",
    "            count +=1\n",
    "            if n//i !=i:\n",
    "                count += 1\n",
    "\n",
    "    \n",
    "    return \"prime\" if count==2 else \"No prime\"\n",
    "\n",
    "\n",
    "\n",
    "    \n",
    "\n",
    "prime(7)\n"
   ]
  },
  {
   "cell_type": "code",
   "execution_count": 22,
   "metadata": {},
   "outputs": [
    {
     "data": {
      "text/plain": [
       "7"
      ]
     },
     "execution_count": 22,
     "metadata": {},
     "output_type": "execute_result"
    }
   ],
   "source": [
    "a= set()\n",
    "a.add(4)\n",
    "\n",
    "min(9,7)"
   ]
  },
  {
   "cell_type": "markdown",
   "metadata": {},
   "source": [
    "#    GCD"
   ]
  },
  {
   "cell_type": "code",
   "execution_count": 25,
   "metadata": {},
   "outputs": [
    {
     "name": "stdout",
     "output_type": "stream",
     "text": [
      "1\n"
     ]
    }
   ],
   "source": [
    "def gcd(a:int,b:int):\n",
    "    while(a>0 and b>0):\n",
    "        if a > b :\n",
    "            a= a%b\n",
    "        else:\n",
    "            b = b%a\n",
    "        if a == 0:\n",
    "            print(b)\n",
    "            break\n",
    "        elif b == 0:\n",
    "            print(a)\n",
    "            break\n",
    "\n",
    "gcd(11,13)"
   ]
  },
  {
   "cell_type": "code",
   "execution_count": null,
   "metadata": {},
   "outputs": [],
   "source": []
  }
 ],
 "metadata": {
  "kernelspec": {
   "display_name": "base",
   "language": "python",
   "name": "python3"
  },
  "language_info": {
   "codemirror_mode": {
    "name": "ipython",
    "version": 3
   },
   "file_extension": ".py",
   "mimetype": "text/x-python",
   "name": "python",
   "nbconvert_exporter": "python",
   "pygments_lexer": "ipython3",
   "version": "3.12.7"
  }
 },
 "nbformat": 4,
 "nbformat_minor": 2
}
