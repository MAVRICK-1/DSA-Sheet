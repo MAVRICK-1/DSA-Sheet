{
 "cells": [
  {
   "cell_type": "code",
   "execution_count": 3,
   "metadata": {},
   "outputs": [
    {
     "name": "stdout",
     "output_type": "stream",
     "text": [
      "#######\n",
      "#######\n",
      "#######\n",
      "#######\n",
      "#######\n",
      "#######\n",
      "#######\n"
     ]
    }
   ],
   "source": [
    "for i in range(0,7):\n",
    "    print('#'*7)"
   ]
  },
  {
   "cell_type": "code",
   "execution_count": 9,
   "metadata": {},
   "outputs": [
    {
     "name": "stdout",
     "output_type": "stream",
     "text": [
      "1\n",
      "12\n",
      "123\n",
      "1234\n",
      "12345\n",
      "123456\n",
      "1234567\n"
     ]
    }
   ],
   "source": [
    "for i in range(1,7+1):\n",
    "    for j in range(1,i+1):\n",
    "        print(j ,end=\"\")\n",
    "\n",
    "    print(\"\")"
   ]
  },
  {
   "cell_type": "code",
   "execution_count": 11,
   "metadata": {},
   "outputs": [
    {
     "name": "stdout",
     "output_type": "stream",
     "text": [
      "1\n",
      "22\n",
      "333\n",
      "4444\n",
      "55555\n",
      "666666\n",
      "7777777\n"
     ]
    }
   ],
   "source": [
    "def pattern4(N:int):\n",
    "    for i in range (1,N+1):\n",
    "        for j in range(1,i+1):\n",
    "            print(i ,end=\"\")\n",
    "\n",
    "        print()\n",
    "\n",
    "pattern4(7)"
   ]
  },
  {
   "cell_type": "code",
   "execution_count": 22,
   "metadata": {},
   "outputs": [
    {
     "name": "stdout",
     "output_type": "stream",
     "text": [
      "*******\n",
      "******\n",
      "*****\n",
      "****\n",
      "***\n",
      "**\n",
      "*\n"
     ]
    }
   ],
   "source": [
    "def patter5(N:int):\n",
    "    for i in range(N,0,-1):\n",
    "        for j in range(i):\n",
    "            print(\"*\",end=\"\")\n",
    "        print(\"\")\n",
    "\n",
    "def patter5_2nd(N:int):\n",
    "    for i in range(N,0,-1):\n",
    "        print(\"*\"*i)\n",
    "\n",
    "patter5_2nd(7)\n",
    "        \n",
    "\n"
   ]
  },
  {
   "cell_type": "code",
   "execution_count": 26,
   "metadata": {},
   "outputs": [
    {
     "name": "stdout",
     "output_type": "stream",
     "text": [
      "1234567\n",
      "123456\n",
      "12345\n",
      "1234\n",
      "123\n",
      "12\n",
      "1\n"
     ]
    }
   ],
   "source": [
    "def patter6(N:int):\n",
    "    for i in range(N,0,-1):\n",
    "        for j in range(1,i+1):\n",
    "            print(j,end=\"\")\n",
    "\n",
    "        print()\n",
    "\n",
    "patter6(7)\n"
   ]
  },
  {
   "cell_type": "code",
   "execution_count": 8,
   "metadata": {},
   "outputs": [
    {
     "name": "stdout",
     "output_type": "stream",
     "text": [
      "   *   \n",
      "  ***  \n",
      " ***** \n"
     ]
    }
   ],
   "source": [
    "def pattern7(N:int):\n",
    "    for i in range(0,N):\n",
    "        for k in range(i,N):\n",
    "            print(\" \",end=\"\")\n",
    "        for j in range(0,2*i+1):\n",
    "            print(\"*\",end=\"\")\n",
    "        for k in range(i,N):\n",
    "            print(\" \", end=\"\")\n",
    "        print()\n",
    "\n",
    "pattern7(3)"
   ]
  },
  {
   "cell_type": "code",
   "execution_count": 13,
   "metadata": {},
   "outputs": [
    {
     "name": "stdout",
     "output_type": "stream",
     "text": [
      "*****\n",
      " *** \n",
      "  *  \n"
     ]
    }
   ],
   "source": [
    "def pattern8(N:int):\n",
    "    for i in range(0,N):\n",
    "        for k in range(i):\n",
    "            print(\" \",end=\"\")\n",
    "        for j in range(0,2*N - (2*i+1)):\n",
    "            print(\"*\",end=\"\")\n",
    "        for k in range(i):\n",
    "            print(\" \",end=\"\")\n",
    "        print()\n",
    "\n",
    "pattern8(3)"
   ]
  },
  {
   "cell_type": "code",
   "execution_count": 15,
   "metadata": {},
   "outputs": [
    {
     "name": "stdout",
     "output_type": "stream",
     "text": [
      "* \n",
      "* * \n",
      "* * * \n",
      "* * * * \n",
      "* * * * * \n",
      "* * * * \n",
      "* * * \n",
      "* * \n",
      "* \n",
      "\n"
     ]
    }
   ],
   "source": [
    "def pattern9(N:int):\n",
    "    for i in range(1,2*N+1):\n",
    "        star=i\n",
    "        if i >= N : star = 2*N - i\n",
    "        for j in range(star):\n",
    "            print(\"* \",end=\"\")\n",
    "\n",
    "        print()\n",
    "\n",
    "pattern9(5)"
   ]
  },
  {
   "cell_type": "code",
   "execution_count": 19,
   "metadata": {},
   "outputs": [
    {
     "name": "stdout",
     "output_type": "stream",
     "text": [
      "1\n",
      "01\n",
      "101\n",
      "0101\n",
      "10101\n"
     ]
    }
   ],
   "source": [
    "def patter10(N:int):\n",
    "    for i in range(1,N+1):\n",
    "        if i%2==1:\n",
    "            for j in range(1,i+1):\n",
    "                print(j%2,end=\"\")\n",
    "        else:\n",
    "            for j in range(i):\n",
    "                print(j%2,end=\"\")\n",
    "\n",
    "        print()\n",
    "\n",
    "def patter10_op(N:int):\n",
    "    start=1\n",
    "    for i in range(1,N+1):\n",
    "        if i % 2 == 0:\n",
    "            start=0\n",
    "        else:\n",
    "            start=1\n",
    "        for j in range(i):\n",
    "            print(start,end=\"\")\n",
    "            start=1-start\n",
    "        print()\n",
    "        \n",
    "patter10_op(5)"
   ]
  },
  {
   "cell_type": "code",
   "execution_count": 31,
   "metadata": {},
   "outputs": [
    {
     "name": "stdout",
     "output_type": "stream",
     "text": [
      "1      1\n",
      "12    21\n",
      "123  321\n",
      "12344321\n"
     ]
    }
   ],
   "source": [
    "def patter11(N:int):\n",
    "    for i in range(1,N+1):\n",
    "        for j in range (1,i+1):\n",
    "            print(j,end=\"\")\n",
    "        for k in range(2*(N-i)):\n",
    "            print(\" \",end=\"\")\n",
    "        for f in range(i):\n",
    "            print(i-f,end=\"\")\n",
    "\n",
    "        print()\n",
    "patter11(4)"
   ]
  },
  {
   "cell_type": "code",
   "execution_count": 32,
   "metadata": {},
   "outputs": [
    {
     "name": "stdout",
     "output_type": "stream",
     "text": [
      "*      *\n",
      "**    **\n",
      "***  ***\n",
      "********\n"
     ]
    }
   ],
   "source": [
    "def patter12(N:int):\n",
    "    for i in range(1,N+1):\n",
    "        for j in range (1,i+1):\n",
    "            print(\"*\",end=\"\")\n",
    "        for k in range(2*(N-i)):\n",
    "            print(\" \",end=\"\")\n",
    "        for f in range(i):\n",
    "            print(\"*\",end=\"\")\n",
    "\n",
    "        print()\n",
    "patter12(4)"
   ]
  },
  {
   "cell_type": "code",
   "execution_count": 36,
   "metadata": {},
   "outputs": [
    {
     "name": "stdout",
     "output_type": "stream",
     "text": [
      "1 \n",
      "2 3 \n",
      "4 5 6 \n",
      "7 8 9 10 \n",
      "11 12 13 14 15 \n"
     ]
    }
   ],
   "source": [
    "def pattern13(N:int)->None:\n",
    "    sum=1\n",
    "    for i in range(1,N+1):\n",
    "        for j in range(i):\n",
    "            print(sum,end=\" \")\n",
    "            sum+=1\n",
    "        print()\n",
    "\n",
    "pattern13(5)"
   ]
  },
  {
   "cell_type": "code",
   "execution_count": 41,
   "metadata": {},
   "outputs": [
    {
     "data": {
      "text/plain": [
       "'A'"
      ]
     },
     "execution_count": 41,
     "metadata": {},
     "output_type": "execute_result"
    }
   ],
   "source": [
    "chr(65)"
   ]
  },
  {
   "cell_type": "code",
   "execution_count": 43,
   "metadata": {},
   "outputs": [
    {
     "name": "stdout",
     "output_type": "stream",
     "text": [
      "A\n",
      "AB\n",
      "ABC\n",
      "ABCD\n",
      "ABCDE\n",
      "ABCDEF\n"
     ]
    }
   ],
   "source": [
    "def pattern14(N:int):\n",
    "    for i in range(N):\n",
    "        c = 65\n",
    "        for j in range(i+1):\n",
    "            print(chr(c),end=\"\")\n",
    "            c+=1\n",
    "        print()\n",
    "\n",
    "pattern14(6)"
   ]
  },
  {
   "cell_type": "code",
   "execution_count": 52,
   "metadata": {},
   "outputs": [
    {
     "name": "stdout",
     "output_type": "stream",
     "text": [
      "ABCDE\n",
      "ABCD\n",
      "ABC\n",
      "AB\n",
      "A\n"
     ]
    }
   ],
   "source": [
    "def pattern15(N:int):\n",
    "    for i in range(N):\n",
    "        c = 65\n",
    "        for j in range(N-i):\n",
    "            print(chr(c),end=\"\")\n",
    "            c+=1\n",
    "\n",
    "        print()\n",
    "pattern15(5)"
   ]
  },
  {
   "cell_type": "code",
   "execution_count": 54,
   "metadata": {},
   "outputs": [
    {
     "name": "stdout",
     "output_type": "stream",
     "text": [
      "A\n",
      "BB\n",
      "CCC\n",
      "DDDD\n",
      "EEEEE\n"
     ]
    }
   ],
   "source": [
    "def pattern15(N:int):\n",
    "    c = 65\n",
    "\n",
    "    for i in range(N):\n",
    "        for j in range(i+1):\n",
    "            print(chr(c),end=\"\")\n",
    "        c+=1\n",
    "\n",
    "        print()\n",
    "pattern15(5)"
   ]
  },
  {
   "cell_type": "code",
   "execution_count": 4,
   "metadata": {},
   "outputs": [
    {
     "name": "stdout",
     "output_type": "stream",
     "text": [
      "     \n",
      "    A\n",
      "   ABA\n",
      "  ABCBA\n",
      " ABCDCBA\n"
     ]
    }
   ],
   "source": [
    "def pattern16(N:int):\n",
    "    for i in range(N):\n",
    "        c=65\n",
    "        for j in range(i,N):\n",
    "            print(\" \",end=\"\")\n",
    "        for k in range (2*i -1):\n",
    "            print(chr(c),end=\"\")\n",
    "            if k < (2*i-1)//2:\n",
    "                c+=1\n",
    "            else:\n",
    "                c-=1\n",
    "        print()\n",
    "\n",
    "pattern16(5)\n",
    "            \n"
   ]
  },
  {
   "cell_type": "code",
   "execution_count": 43,
   "metadata": {},
   "outputs": [
    {
     "name": "stdout",
     "output_type": "stream",
     "text": [
      "A B C D E \n",
      "A B C D \n",
      "A B C \n",
      "A B \n",
      "A \n"
     ]
    }
   ],
   "source": [
    "def pattern17(N: int):\n",
    "    for i in range(N):\n",
    "        for k in range(N - i):\n",
    "            print(chr(ord('A')+ k), end=\" \")\n",
    "        print()\n",
    "\n",
    "pattern17(5)\n"
   ]
  },
  {
   "cell_type": "code",
   "execution_count": 46,
   "metadata": {},
   "outputs": [
    {
     "name": "stdout",
     "output_type": "stream",
     "text": [
      "F\n",
      "E F\n",
      "D E F\n",
      "C D E F\n",
      "B C D E F\n",
      "A B C D E F\n"
     ]
    }
   ],
   "source": [
    "def print_pattern(N):\n",
    "    for i in range(1, N + 1):\n",
    "        start_char = chr(ord('A') + N - i)\n",
    "        line = \"\"\n",
    "        for j in range(i):\n",
    "            line += chr(ord(start_char) + j) + \" \"\n",
    "        print(line.strip())\n",
    "\n",
    "# Example usage:\n",
    "N = 6\n",
    "print_pattern(N)\n"
   ]
  },
  {
   "cell_type": "code",
   "execution_count": 54,
   "metadata": {},
   "outputs": [
    {
     "name": "stdout",
     "output_type": "stream",
     "text": [
      "********\n",
      "***  ***\n",
      "**    **\n",
      "*      *\n",
      "*      *\n",
      "**    **\n",
      "***  ***\n",
      "********\n"
     ]
    }
   ],
   "source": [
    "def pattern18(N:int):\n",
    "    for i in range(N):\n",
    "        for j in range(N-i):\n",
    "            print(\"*\",end=\"\")\n",
    "\n",
    "        for k in range(2*i):\n",
    "            print(\" \",end=\"\")\n",
    "        \n",
    "        for j in range(N-i):\n",
    "            print(\"*\",end=\"\")\n",
    "        print()\n",
    "\n",
    "    for i in range(1,N+1):\n",
    "        for j in range(i):\n",
    "            print(\"*\",end=\"\")\n",
    "\n",
    "        for k in range(2*(N-i)):\n",
    "            print(\" \",end=\"\")\n",
    "        \n",
    "        for j in range(i):\n",
    "            print(\"*\",end=\"\")\n",
    "        print()\n",
    "\n",
    "pattern18(4)\n",
    "\n",
    "\n"
   ]
  },
  {
   "cell_type": "code",
   "execution_count": 6,
   "metadata": {},
   "outputs": [
    {
     "name": "stdout",
     "output_type": "stream",
     "text": [
      "*        *\n",
      "**      **\n",
      "***    ***\n",
      "****  ****\n",
      "**********\n",
      "****  ****\n",
      "***    ***\n",
      "**      **\n",
      "*        *\n"
     ]
    }
   ],
   "source": [
    "def pattern19(N:int)->None:\n",
    "    star = 0\n",
    "    for i in range(1,2*N):\n",
    "        if i <= N :\n",
    "            star+=1\n",
    "        else:\n",
    "            star-=1\n",
    "        for j in range(star):\n",
    "            print(\"*\",end=\"\")\n",
    "        for k in range(2*(N-star)):\n",
    "            print(\" \",end=\"\")\n",
    "        for j in range(star):\n",
    "            print(\"*\",end=\"\")\n",
    "        \n",
    "        print()\n",
    "\n",
    "pattern19(5)\n"
   ]
  },
  {
   "cell_type": "code",
   "execution_count": null,
   "metadata": {},
   "outputs": [],
   "source": []
  }
 ],
 "metadata": {
  "kernelspec": {
   "display_name": "base",
   "language": "python",
   "name": "python3"
  },
  "language_info": {
   "codemirror_mode": {
    "name": "ipython",
    "version": 3
   },
   "file_extension": ".py",
   "mimetype": "text/x-python",
   "name": "python",
   "nbconvert_exporter": "python",
   "pygments_lexer": "ipython3",
   "version": "3.12.7"
  }
 },
 "nbformat": 4,
 "nbformat_minor": 2
}
