{
 "cells": [
  {
   "cell_type": "code",
   "execution_count": 4,
   "id": "24ac450c",
   "metadata": {},
   "outputs": [
    {
     "name": "stdout",
     "output_type": "stream",
     "text": [
      "hey my name is Rishi\n",
      "it's a function\n",
      "tommrow i survided hell\n",
      "hey my name is Rishi\n",
      "Hello, Alice!\n",
      "tommrow i survided hell\n"
     ]
    }
   ],
   "source": [
    "def decorator(func):\n",
    "    def wraper(*args, **kwargs):\n",
    "        print(\"hey my name is Rishi\")\n",
    "        func(*args, **kwargs)\n",
    "        print(\"tommrow i survided hell\")\n",
    "    return wraper\n",
    "\n",
    "@decorator\n",
    "def trial():\n",
    "    print(\"it's a function\")\n",
    "\n",
    "@decorator\n",
    "def greet(name):\n",
    "    print(f\"Hello, {name}!\")\n",
    "\n",
    "trial()\n",
    "greet(\"Alice\")\n",
    "\n"
   ]
  },
  {
   "cell_type": "code",
   "execution_count": null,
   "id": "be0df733",
   "metadata": {},
   "outputs": [],
   "source": []
  }
 ],
 "metadata": {
  "kernelspec": {
   "display_name": "base",
   "language": "python",
   "name": "python3"
  },
  "language_info": {
   "codemirror_mode": {
    "name": "ipython",
    "version": 3
   },
   "file_extension": ".py",
   "mimetype": "text/x-python",
   "name": "python",
   "nbconvert_exporter": "python",
   "pygments_lexer": "ipython3",
   "version": "3.12.7"
  }
 },
 "nbformat": 4,
 "nbformat_minor": 5
}
